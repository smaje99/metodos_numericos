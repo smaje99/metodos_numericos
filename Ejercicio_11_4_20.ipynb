{
 "cells": [
  {
   "cell_type": "code",
   "execution_count": 1,
   "metadata": {
    "ExecuteTime": {
     "end_time": "2020-12-04T15:34:50.341633Z",
     "start_time": "2020-12-04T15:34:49.602330Z"
    }
   },
   "outputs": [],
   "source": [
    "from prettytable import PrettyTable"
   ]
  },
  {
   "cell_type": "code",
   "execution_count": 2,
   "metadata": {
    "ExecuteTime": {
     "end_time": "2020-12-04T15:34:51.079671Z",
     "start_time": "2020-12-04T15:34:50.344166Z"
    }
   },
   "outputs": [],
   "source": [
    "x1 = 1\n",
    "x2 = 3\n",
    "eps = 1e-6\n",
    "error = []"
   ]
  },
  {
   "cell_type": "code",
   "execution_count": 3,
   "metadata": {
    "ExecuteTime": {
     "end_time": "2020-12-04T15:34:51.286411Z",
     "start_time": "2020-12-04T15:34:51.082542Z"
    }
   },
   "outputs": [],
   "source": [
    "table = PrettyTable()\n",
    "table.field_names = ['i', 'xc', 'fc']\n",
    "table.align['i'] = 'r'\n",
    "table.align['xc'] = 'r'\n",
    "table.align['fc'] = 'r'"
   ]
  },
  {
   "cell_type": "code",
   "execution_count": 4,
   "metadata": {
    "ExecuteTime": {
     "end_time": "2020-12-04T15:34:51.479829Z",
     "start_time": "2020-12-04T15:34:51.290303Z"
    },
    "code_folding": []
   },
   "outputs": [],
   "source": [
    "for i in range(22):\n",
    "    xc = (x1 + x2) / 2\n",
    "    error.append(xc)\n",
    "    f2 = x2 ** 2 - 3\n",
    "    fc = xc ** 2 - 3\n",
    "    table.add_row([i + 1, xc, fc])\n",
    "    if fc * f2 > 0: x2 = xc\n",
    "    else: x1 = xc\n",
    "    if abs(fc) < eps: break"
   ]
  },
  {
   "cell_type": "code",
   "execution_count": 5,
   "metadata": {
    "ExecuteTime": {
     "end_time": "2020-12-04T15:34:51.709312Z",
     "start_time": "2020-12-04T15:34:51.481931Z"
    }
   },
   "outputs": [
    {
     "name": "stdout",
     "output_type": "stream",
     "text": [
      "+----+--------------------+-------------------------+\n",
      "|  i |                 xc |                      fc |\n",
      "+----+--------------------+-------------------------+\n",
      "|  1 |                2.0 |                     1.0 |\n",
      "|  2 |                1.5 |                   -0.75 |\n",
      "|  3 |               1.75 |                  0.0625 |\n",
      "|  4 |              1.625 |               -0.359375 |\n",
      "|  5 |             1.6875 |             -0.15234375 |\n",
      "|  6 |            1.71875 |           -0.0458984375 |\n",
      "|  7 |           1.734375 |          0.008056640625 |\n",
      "|  8 |          1.7265625 |       -0.01898193359375 |\n",
      "|  9 |         1.73046875 |     -0.0054779052734375 |\n",
      "| 10 |        1.732421875 |    0.001285552978515625 |\n",
      "| 11 |       1.7314453125 |  -0.0020971298217773438 |\n",
      "| 12 |      1.73193359375 | -0.00040602684020996094 |\n",
      "| 13 |     1.732177734375 |  0.00043970346450805664 |\n",
      "| 14 |    1.7320556640625 |  1.6823410987854004e-05 |\n",
      "| 15 |   1.73199462890625 | -0.00019460543990135193 |\n",
      "| 16 |  1.732025146484375 |  -8.889194577932358e-05 |\n",
      "| 17 | 1.7320404052734375 |  -3.603450022637844e-05 |\n",
      "| 18 | 1.7320480346679688 |  -9.605602826923132e-06 |\n",
      "| 19 | 1.7320518493652344 |  3.6088895285502076e-06 |\n",
      "| 20 | 1.7320499420166016 | -2.9983602871652693e-06 |\n",
      "| 21 |  1.732050895690918 |   3.052637111977674e-07 |\n",
      "+----+--------------------+-------------------------+\n"
     ]
    }
   ],
   "source": [
    "print(table)"
   ]
  },
  {
   "cell_type": "code",
   "execution_count": 6,
   "metadata": {
    "ExecuteTime": {
     "end_time": "2020-12-04T15:34:51.930138Z",
     "start_time": "2020-12-04T15:34:51.713202Z"
    }
   },
   "outputs": [
    {
     "data": {
      "text/plain": [
       "1.000001"
      ]
     },
     "execution_count": 6,
     "metadata": {},
     "output_type": "execute_result"
    }
   ],
   "source": [
    "eps + 1"
   ]
  },
  {
   "cell_type": "markdown",
   "metadata": {},
   "source": [
    "## Error relativo"
   ]
  },
  {
   "cell_type": "code",
   "execution_count": 7,
   "metadata": {
    "ExecuteTime": {
     "end_time": "2020-12-04T15:34:52.178997Z",
     "start_time": "2020-12-04T15:34:51.932812Z"
    }
   },
   "outputs": [],
   "source": [
    "media = sum(error) / len(error)\n",
    "error_a = list(map(lambda e: media - e, error))\n",
    "error_r = list(map(lambda e: e / media, error_a))"
   ]
  },
  {
   "cell_type": "code",
   "execution_count": 8,
   "metadata": {
    "ExecuteTime": {
     "end_time": "2020-12-04T15:34:52.506958Z",
     "start_time": "2020-12-04T15:34:52.183520Z"
    }
   },
   "outputs": [],
   "source": [
    "error_t = PrettyTable()\n",
    "error_t.field_names = ['i', 'xc', 'error absoluto', 'error relativo']\n",
    "error_t.align['i'] = 'r'\n",
    "error_t.align['xc'] = 'r'\n",
    "error_t.align['error absoluto'] = 'r'\n",
    "error_t.align['error relativo'] = 'r'"
   ]
  },
  {
   "cell_type": "code",
   "execution_count": 9,
   "metadata": {
    "ExecuteTime": {
     "end_time": "2020-12-04T15:34:52.723204Z",
     "start_time": "2020-12-04T15:34:52.509542Z"
    },
    "code_folding": [
     0
    ]
   },
   "outputs": [
    {
     "name": "stdout",
     "output_type": "stream",
     "text": [
      "+----+--------------------+------------------------+-------------------------+\n",
      "|  i |                 xc |         error absoluto |          error relativo |\n",
      "+----+--------------------+------------------------+-------------------------+\n",
      "|  1 |                2.0 |   -0.27347850799560547 |    -0.15839855412289844 |\n",
      "|  2 |                1.5 |    0.22652149200439453 |     0.13120108440782616 |\n",
      "|  3 |               1.75 |   -0.02347850799560547 |   -0.013598734857536142 |\n",
      "|  4 |              1.625 |    0.10152149200439453 |     0.05880117477514501 |\n",
      "|  5 |             1.6875 |    0.03902149200439453 |    0.022601219958804434 |\n",
      "|  6 |            1.71875 |   0.007771492004394531 |    0.004501242550634146 |\n",
      "|  7 |           1.734375 |  -0.007853507995605469 |   -0.004548746153450999 |\n",
      "|  8 |          1.7265625 | -4.100799560546875e-05 | -2.3751801408426586e-05 |\n",
      "|  9 |         1.73046875 |  -0.003947257995605469 |  -0.0022862489774297125 |\n",
      "| 10 |        1.732421875 |  -0.005900382995605469 |   -0.003417497565440356 |\n",
      "| 11 |       1.7314453125 |  -0.004923820495605469 |   -0.002851873271435034 |\n",
      "| 12 |      1.73193359375 |  -0.005412101745605469 |   -0.003134685418437695 |\n",
      "| 13 |     1.732177734375 |  -0.005656242370605469 |   -0.003276091491939025 |\n",
      "| 14 |    1.7320556640625 |  -0.005534172058105469 |    -0.00320538845518836 |\n",
      "| 15 |   1.73199462890625 |  -0.005473136901855469 |  -0.0031700369368130275 |\n",
      "| 16 |  1.732025146484375 |  -0.005503654479980469 |   -0.003187712696000694 |\n",
      "| 17 | 1.7320404052734375 |  -0.005518913269042969 |  -0.0031965505755945267 |\n",
      "| 18 | 1.7320480346679688 |  -0.005526542663574219 |  -0.0032009695153914436 |\n",
      "| 19 | 1.7320518493652344 |  -0.005530357360839844 |   -0.003203178985289902 |\n",
      "| 20 | 1.7320499420166016 |  -0.005528450012207031 |  -0.0032020742503406727 |\n",
      "| 21 |  1.732050895690918 | -0.0055294036865234375 |  -0.0032026266178152873 |\n",
      "+----+--------------------+------------------------+-------------------------+\n"
     ]
    }
   ],
   "source": [
    "for i, e in enumerate(zip(error, error_a, error_r)):\n",
    "    error_t.add_row([i + 1, e[0], e[1], e[2]])\n",
    "    \n",
    "print(error_t)"
   ]
  }
 ],
 "metadata": {
  "kernelspec": {
   "display_name": "Métodos",
   "language": "python",
   "name": "metodos"
  },
  "language_info": {
   "codemirror_mode": {
    "name": "ipython",
    "version": 3
   },
   "file_extension": ".py",
   "mimetype": "text/x-python",
   "name": "python",
   "nbconvert_exporter": "python",
   "pygments_lexer": "ipython3",
   "version": "3.8.5"
  },
  "varInspector": {
   "cols": {
    "lenName": 16,
    "lenType": 16,
    "lenVar": 40
   },
   "kernels_config": {
    "python": {
     "delete_cmd_postfix": "",
     "delete_cmd_prefix": "del ",
     "library": "var_list.py",
     "varRefreshCmd": "print(var_dic_list())"
    },
    "r": {
     "delete_cmd_postfix": ") ",
     "delete_cmd_prefix": "rm(",
     "library": "var_list.r",
     "varRefreshCmd": "cat(var_dic_list()) "
    }
   },
   "position": {
    "height": "582px",
    "left": "1455px",
    "right": "20px",
    "top": "111px",
    "width": "350px"
   },
   "types_to_exclude": [
    "module",
    "function",
    "builtin_function_or_method",
    "instance",
    "_Feature"
   ],
   "window_display": false
  }
 },
 "nbformat": 4,
 "nbformat_minor": 4
}
