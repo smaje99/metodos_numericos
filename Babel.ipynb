{
 "cells": [
  {
   "cell_type": "markdown",
   "metadata": {},
   "source": [
    "<h1 align=\"center\">Algoritmo de Babilonia</h1>"
   ]
  },
  {
   "cell_type": "markdown",
   "metadata": {
    "ExecuteTime": {
     "end_time": "2020-11-15T06:13:41.118395Z",
     "start_time": "2020-11-15T06:13:41.115182Z"
    }
   },
   "source": [
    "## Raíz cuadrada"
   ]
  },
  {
   "cell_type": "markdown",
   "metadata": {},
   "source": [
    "Sea $a \\in \\mathbb R^+$ y $x_1 > 0$ la sucesión $(x_n)_{n \\in \\mathbb N}$ está definida de forma recursiva como:\n",
    "\\begin{equation}\n",
    "x_{n + 1} = \\frac{1}{2} (x_n + \\frac{a}{x_n})\n",
    "\\end{equation}"
   ]
  },
  {
   "cell_type": "markdown",
   "metadata": {},
   "source": [
    "### Algoritmo con iteraciones definidas"
   ]
  },
  {
   "cell_type": "code",
   "execution_count": 30,
   "metadata": {
    "ExecuteTime": {
     "end_time": "2020-11-15T07:05:06.377713Z",
     "start_time": "2020-11-15T07:05:06.372351Z"
    },
    "code_folding": []
   },
   "outputs": [],
   "source": [
    "def sqrt_babel_l(a: float, iterations: int, show: bool=False) -> float:\n",
    "    if a < 0: return\n",
    "    x: float = a\n",
    "    if show: print(f'x_1 = {x}')\n",
    "    for i in range(1, iterations):\n",
    "        x = (x + a / x) / 2\n",
    "        if show: print(f'x_{i + 1} = {x}')\n",
    "    return x"
   ]
  },
  {
   "cell_type": "code",
   "execution_count": 38,
   "metadata": {
    "ExecuteTime": {
     "end_time": "2020-11-15T07:09:24.818397Z",
     "start_time": "2020-11-15T07:09:24.805892Z"
    }
   },
   "outputs": [
    {
     "name": "stdout",
     "output_type": "stream",
     "text": [
      "x_1 = 10\n",
      "x_2 = 5.5\n",
      "x_3 = 3.659090909090909\n",
      "x_4 = 3.196005081874647\n",
      "x_5 = 3.16245562280389\n",
      "x_6 = 3.162277665175675\n",
      "x_7 = 3.162277660168379\n",
      "x_8 = 3.162277660168379\n",
      "x_9 = 3.162277660168379\n",
      "x_10 = 3.162277660168379\n",
      "x_11 = 3.162277660168379\n",
      "x_12 = 3.162277660168379\n",
      "x_13 = 3.162277660168379\n",
      "x_14 = 3.162277660168379\n",
      "x_15 = 3.162277660168379\n",
      "x_16 = 3.162277660168379\n",
      "x_17 = 3.162277660168379\n",
      "x_18 = 3.162277660168379\n",
      "x_19 = 3.162277660168379\n",
      "x_20 = 3.162277660168379\n"
     ]
    },
    {
     "data": {
      "text/plain": [
       "3.162277660168379"
      ]
     },
     "execution_count": 38,
     "metadata": {},
     "output_type": "execute_result"
    }
   ],
   "source": [
    "sqrt_babel_l(10, 20, show=True)"
   ]
  },
  {
   "cell_type": "markdown",
   "metadata": {},
   "source": [
    "### Algoritmo con iteraciones indeterminadas"
   ]
  },
  {
   "cell_type": "code",
   "execution_count": 41,
   "metadata": {
    "ExecuteTime": {
     "end_time": "2020-11-15T07:13:33.001528Z",
     "start_time": "2020-11-15T07:13:32.996316Z"
    }
   },
   "outputs": [],
   "source": [
    "def sqrt_babel(a: float, show: bool=False):\n",
    "    if a < 0: return\n",
    "    x: float = a\n",
    "    x_n: float = 0\n",
    "    i: int = 1\n",
    "    if show: print(f'x_{i} = {x}')\n",
    "    while True:\n",
    "        i += 1\n",
    "        x = (x + a / x) / 2\n",
    "        if show: print(f'x_{i + 1} = {x}')\n",
    "        if x == x_n: \n",
    "            break\n",
    "        x_n = x\n",
    "    return x"
   ]
  },
  {
   "cell_type": "code",
   "execution_count": 42,
   "metadata": {
    "ExecuteTime": {
     "end_time": "2020-11-15T07:13:35.391724Z",
     "start_time": "2020-11-15T07:13:35.382132Z"
    }
   },
   "outputs": [
    {
     "name": "stdout",
     "output_type": "stream",
     "text": [
      "x_1 = 10\n",
      "x_3 = 5.5\n",
      "x_4 = 3.659090909090909\n",
      "x_5 = 3.196005081874647\n",
      "x_6 = 3.16245562280389\n",
      "x_7 = 3.162277665175675\n",
      "x_8 = 3.162277660168379\n",
      "x_9 = 3.162277660168379\n"
     ]
    },
    {
     "data": {
      "text/plain": [
       "3.162277660168379"
      ]
     },
     "execution_count": 42,
     "metadata": {},
     "output_type": "execute_result"
    }
   ],
   "source": [
    "sqrt_babel(10, show=True)"
   ]
  },
  {
   "cell_type": "code",
   "execution_count": 3,
   "metadata": {
    "ExecuteTime": {
     "end_time": "2020-11-15T06:27:55.360241Z",
     "start_time": "2020-11-15T06:27:55.209911Z"
    }
   },
   "outputs": [],
   "source": [
    "from math import sqrt"
   ]
  },
  {
   "cell_type": "code",
   "execution_count": 4,
   "metadata": {
    "ExecuteTime": {
     "end_time": "2020-11-15T06:27:55.495494Z",
     "start_time": "2020-11-15T06:27:55.362662Z"
    }
   },
   "outputs": [
    {
     "data": {
      "text/plain": [
       "3.1622776601683795"
      ]
     },
     "execution_count": 4,
     "metadata": {},
     "output_type": "execute_result"
    }
   ],
   "source": [
    "sqrt(10)"
   ]
  },
  {
   "cell_type": "markdown",
   "metadata": {
    "ExecuteTime": {
     "end_time": "2020-11-15T07:10:05.379725Z",
     "start_time": "2020-11-15T07:10:05.375097Z"
    }
   },
   "source": [
    "### Error"
   ]
  },
  {
   "cell_type": "code",
   "execution_count": 48,
   "metadata": {
    "ExecuteTime": {
     "end_time": "2020-11-15T07:16:30.817820Z",
     "start_time": "2020-11-15T07:16:30.811835Z"
    }
   },
   "outputs": [
    {
     "name": "stdout",
     "output_type": "stream",
     "text": [
      "Raíz cuadrada de 10\n",
      "Correcto = 3.1622776601683795\n",
      "Aproximación = 3.162277660168379\n",
      "Error = 4.440892098500626e-16\n"
     ]
    }
   ],
   "source": [
    "numero = 10\n",
    "correcto = sqrt(numero)\n",
    "aprox = sqrt_babel(numero)\n",
    "error = correcto - aprox\n",
    "\n",
    "print(f'Raíz cuadrada de {numero}\\nCorrecto = {correcto}\\nAproximación = {aprox}\\nError = {error}')"
   ]
  }
 ],
 "metadata": {
  "kernelspec": {
   "display_name": "Métodos",
   "language": "python",
   "name": "metodos"
  },
  "language_info": {
   "codemirror_mode": {
    "name": "ipython",
    "version": 3
   },
   "file_extension": ".py",
   "mimetype": "text/x-python",
   "name": "python",
   "nbconvert_exporter": "python",
   "pygments_lexer": "ipython3",
   "version": "3.8.5"
  },
  "latex_envs": {
   "LaTeX_envs_menu_present": true,
   "autoclose": true,
   "autocomplete": true,
   "bibliofile": "biblio.bib",
   "cite_by": "apalike",
   "current_citInitial": 1,
   "eqLabelWithNumbers": true,
   "eqNumInitial": 1,
   "hotkeys": {
    "equation": "Ctrl-E",
    "itemize": "Ctrl-I"
   },
   "labels_anchors": false,
   "latex_user_defs": false,
   "report_style_numbering": false,
   "user_envs_cfg": false
  },
  "varInspector": {
   "cols": {
    "lenName": 16,
    "lenType": 16,
    "lenVar": 40
   },
   "kernels_config": {
    "python": {
     "delete_cmd_postfix": "",
     "delete_cmd_prefix": "del ",
     "library": "var_list.py",
     "varRefreshCmd": "print(var_dic_list())"
    },
    "r": {
     "delete_cmd_postfix": ") ",
     "delete_cmd_prefix": "rm(",
     "library": "var_list.r",
     "varRefreshCmd": "cat(var_dic_list()) "
    }
   },
   "position": {
    "height": "144px",
    "left": "957px",
    "right": "20px",
    "top": "120px",
    "width": "350px"
   },
   "types_to_exclude": [
    "module",
    "function",
    "builtin_function_or_method",
    "instance",
    "_Feature"
   ],
   "window_display": false
  }
 },
 "nbformat": 4,
 "nbformat_minor": 4
}
